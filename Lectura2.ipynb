{
  "nbformat": 4,
  "nbformat_minor": 0,
  "metadata": {
    "colab": {
      "provenance": [],
      "authorship_tag": "ABX9TyN6XV/AvCIgBeOD6YrzhmAX",
      "include_colab_link": true
    },
    "kernelspec": {
      "name": "python3",
      "display_name": "Python 3"
    },
    "language_info": {
      "name": "python"
    }
  },
  "cells": [
    {
      "cell_type": "markdown",
      "metadata": {
        "id": "view-in-github",
        "colab_type": "text"
      },
      "source": [
        "<a href=\"https://colab.research.google.com/github/MoisesArroyo/Cryptography/blob/master/Lectura2.ipynb\" target=\"_parent\"><img src=\"https://colab.research.google.com/assets/colab-badge.svg\" alt=\"Open In Colab\"/></a>"
      ]
    },
    {
      "cell_type": "markdown",
      "source": [
        "#Lectura 2\n",
        "## Algoritmo RSA\n",
        "\n",
        "1. Generar dos n´umeros primos p y q\n",
        "2. Calcular su producto n = pq\n",
        "3. Calcular el n´umero ϕ = (p − 1)(q − 1)\n",
        "4. Escoger una llave p´ublica e, con la siguiente restricci´on:\n",
        "1 < e < ϕ, tal que el mcd(e, ϕ) = 1. Esto determina que e y\n",
        "ϕ son coprimos,es decir e debe ser un primo.\n",
        "5. Calcular el exponente d, con la siguiente restricci´on:\n",
        "1 < d < ϕ, tal que edmodϕ = 1\n",
        "\n",
        "C = 104^5mod221 = 117\n",
        "P = 117^77mod221 = 104\n"
      ],
      "metadata": {
        "id": "uZwLIVx-kpTm"
      }
    },
    {
      "cell_type": "code",
      "source": [
        "# Ingresar datos\n",
        "\n",
        "m = input(\"Ingresa un texto: \")\n",
        "\n",
        "p_input = input(\"p: \")\n",
        "q_input = input(\"q: \")\n",
        "\n",
        "p = int(p_input)\n",
        "q = int(q_input)\n",
        "\n",
        "n = p*q\n",
        "\n",
        "# print(type(n))\n",
        "phi=(p-1)*(q-1)\n",
        "# print(type(phi))"
      ],
      "metadata": {
        "colab": {
          "base_uri": "https://localhost:8080/"
        },
        "id": "BtEtepnopDgn",
        "outputId": "96e470d9-176c-4594-c1ff-ea08a2091d61"
      },
      "execution_count": 36,
      "outputs": [
        {
          "name": "stdout",
          "output_type": "stream",
          "text": [
            "Ingresa un texto: hola\n",
            "p: 13\n",
            "q: 17\n"
          ]
        }
      ]
    },
    {
      "cell_type": "code",
      "source": [
        "def gcd(a, b):\n",
        "    if (b==0): #O(1)\n",
        "        return a#O(1)\n",
        "    else:\n",
        "        return gcd(b, a%b)#O(log(n))\n",
        "\n",
        "print(gcd(5, 192))"
      ],
      "metadata": {
        "colab": {
          "base_uri": "https://localhost:8080/"
        },
        "id": "LxSEIUWJtCzK",
        "outputId": "c6f3311b-38b6-4631-f976-36abcf898f13"
      },
      "execution_count": 50,
      "outputs": [
        {
          "output_type": "stream",
          "name": "stdout",
          "text": [
            "1\n"
          ]
        }
      ]
    },
    {
      "cell_type": "code",
      "source": [
        "#Generador de llaves\n",
        "e = 2\n",
        "\n",
        "while gcd(e, phi)!=1 and e < phi:\n",
        "  e = e + 1\n",
        "\n",
        "print(e)\n",
        "print(phi)"
      ],
      "metadata": {
        "colab": {
          "base_uri": "https://localhost:8080/"
        },
        "id": "cF2joEzVp6u0",
        "outputId": "fc8d6e7c-739c-4499-dc3c-62a94d589e63"
      },
      "execution_count": 51,
      "outputs": [
        {
          "output_type": "stream",
          "name": "stdout",
          "text": [
            "5\n",
            "192\n"
          ]
        }
      ]
    },
    {
      "cell_type": "code",
      "source": [
        "mc = []\n",
        "for letra in m:\n",
        "  mc.append((ord(letra)**e)%n)\n",
        "\n",
        "print(mc)"
      ],
      "metadata": {
        "colab": {
          "base_uri": "https://localhost:8080/"
        },
        "id": "GOc9-NI-qPri",
        "outputId": "9041919f-d3c3-4b89-a01b-c8e18ac716df"
      },
      "execution_count": 55,
      "outputs": [
        {
          "output_type": "stream",
          "name": "stdout",
          "text": [
            "[117, 76, 75, 54]\n"
          ]
        }
      ]
    },
    {
      "cell_type": "code",
      "source": [
        "d = 2\n",
        "\n",
        "while ((e*d)%phi)!=1 and d < phi:\n",
        "  d = d + 1\n",
        "\n",
        "print(d)"
      ],
      "metadata": {
        "colab": {
          "base_uri": "https://localhost:8080/"
        },
        "id": "yv8N1LH2qeQK",
        "outputId": "b97d74b5-e404-40d7-b7a7-21298fd15905"
      },
      "execution_count": 53,
      "outputs": [
        {
          "output_type": "stream",
          "name": "stdout",
          "text": [
            "77\n"
          ]
        }
      ]
    },
    {
      "cell_type": "code",
      "source": [
        "dc = []\n",
        "for letra in mc:\n",
        "  dc.append((letra**d)%n)\n",
        "\n",
        "regreso = ''\n",
        "for caract in dc:\n",
        "  regreso = regreso + chr(caract)\n",
        "\n",
        "print(regreso)"
      ],
      "metadata": {
        "colab": {
          "base_uri": "https://localhost:8080/"
        },
        "id": "FZKNOTszqoYB",
        "outputId": "47b0d5da-5763-41f6-9125-d5d568623f90"
      },
      "execution_count": 59,
      "outputs": [
        {
          "output_type": "stream",
          "name": "stdout",
          "text": [
            "hola\n"
          ]
        }
      ]
    }
  ]
}