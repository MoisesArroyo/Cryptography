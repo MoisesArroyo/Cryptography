{
  "nbformat": 4,
  "nbformat_minor": 0,
  "metadata": {
    "colab": {
      "provenance": [],
      "authorship_tag": "ABX9TyNpoMLc8qGzUSAf9rlCZLfB",
      "include_colab_link": true
    },
    "kernelspec": {
      "name": "python3",
      "display_name": "Python 3"
    },
    "language_info": {
      "name": "python"
    }
  },
  "cells": [
    {
      "cell_type": "markdown",
      "metadata": {
        "id": "view-in-github",
        "colab_type": "text"
      },
      "source": [
        "<a href=\"https://colab.research.google.com/github/MoisesArroyo/Cryptography/blob/master/Lectura4.ipynb\" target=\"_parent\"><img src=\"https://colab.research.google.com/assets/colab-badge.svg\" alt=\"Open In Colab\"/></a>"
      ]
    },
    {
      "cell_type": "markdown",
      "source": [
        "#Cifrado Bifido\n"
      ],
      "metadata": {
        "id": "mC3gpQr03SU1"
      }
    },
    {
      "cell_type": "code",
      "source": [
        "\n",
        "m = input('Ingresa el mensaje a cifrar: ')\n",
        "ml = list(m)\n",
        "filas = list()\n",
        "columas = list()\n"
      ],
      "metadata": {
        "colab": {
          "base_uri": "https://localhost:8080/"
        },
        "id": "6Ayf2Zcv3dmm",
        "outputId": "bb9cb50a-0a7f-484b-c445-9266d5166d89"
      },
      "execution_count": 49,
      "outputs": [
        {
          "name": "stdout",
          "output_type": "stream",
          "text": [
            "Ingresa el mensaje a cifrar: mistico\n"
          ]
        }
      ]
    },
    {
      "cell_type": "code",
      "source": [
        "v = 'phqgmeaylnñofdxkrcvszwbutij'\n",
        "vlen = list(v)\n",
        "chunked_list = list()\n",
        "chunk_size = 5\n",
        "# print(vlen)\n",
        "j=0\n",
        "for i in vlen:\n",
        "  if( i == 'n'):\n",
        "    vlen[j] = 'nñ'\n",
        "    vlen.remove('ñ')\n",
        "    j = j+1\n",
        "  if( i == 'i'):\n",
        "    vlen[j] = 'ij'\n",
        "    vlen.remove('i')\n",
        "    j = j+1\n",
        "  j = j+1\n",
        "\n",
        "print(vlen)\n",
        "\n"
      ],
      "metadata": {
        "colab": {
          "base_uri": "https://localhost:8080/"
        },
        "id": "ovpe7kuTABA-",
        "outputId": "c48cbba0-486b-461a-9b93-1c81a5889219"
      },
      "execution_count": 50,
      "outputs": [
        {
          "output_type": "stream",
          "name": "stdout",
          "text": [
            "['p', 'h', 'q', 'g', 'm', 'e', 'a', 'y', 'l', 'nñ', 'o', 'f', 'd', 'x', 'k', 'r', 'c', 'v', 's', 'z', 'w', 'b', 'u', 't', 'ij']\n"
          ]
        }
      ]
    },
    {
      "cell_type": "code",
      "source": [
        "for i in range(0, len(vlen), chunk_size):\n",
        "  chunked_list.append(vlen[i:i+chunk_size])\n",
        "\n",
        "print(chunked_list)"
      ],
      "metadata": {
        "colab": {
          "base_uri": "https://localhost:8080/"
        },
        "id": "vq_IPSHHFFk7",
        "outputId": "1f654770-841c-409c-9cc8-c5d079c946b5"
      },
      "execution_count": 51,
      "outputs": [
        {
          "output_type": "stream",
          "name": "stdout",
          "text": [
            "[['p', 'h', 'q', 'g', 'm'], ['e', 'a', 'y', 'l', 'nñ'], ['o', 'f', 'd', 'x', 'k'], ['r', 'c', 'v', 's', 'z'], ['w', 'b', 'u', 't', 'ij']]\n"
          ]
        }
      ]
    },
    {
      "cell_type": "code",
      "source": [
        "a = 'm'\n",
        "chunked_list[2][1]"
      ],
      "metadata": {
        "colab": {
          "base_uri": "https://localhost:8080/",
          "height": 36
        },
        "id": "yFGioAnOzc0l",
        "outputId": "2ed3779f-f7f2-49c5-a1d0-f3a55613ef17"
      },
      "execution_count": 52,
      "outputs": [
        {
          "output_type": "execute_result",
          "data": {
            "text/plain": [
              "'f'"
            ],
            "application/vnd.google.colaboratory.intrinsic+json": {
              "type": "string"
            }
          },
          "metadata": {},
          "execution_count": 52
        }
      ]
    },
    {
      "cell_type": "code",
      "source": [
        "\n",
        "#Buscar posición\n",
        "filas = list()\n",
        "columas = list()\n",
        "\n",
        "\n",
        "for a in range(0, len(ml), 1):\n",
        "  for ii in range(0,len(chunked_list), 1):\n",
        "    for jj in range(0,len(chunked_list), 1):\n",
        "      if(ml[a]=='i' and (chunked_list[ii][jj] == 'ij')):\n",
        "        filas.append(ii+1)\n",
        "        columas.append(jj+1)\n",
        "      if(ml[a]==chunked_list[ii][jj]):\n",
        "        filas.append(ii+1)\n",
        "        columas.append(jj+1)\n",
        "\n",
        "\n",
        "print(filas)\n",
        "print(columas)\n",
        "\n",
        "\n"
      ],
      "metadata": {
        "colab": {
          "base_uri": "https://localhost:8080/"
        },
        "id": "tFHIfKdl3-i9",
        "outputId": "a4d577d1-f86f-4ae4-9397-a7c7a866ed23"
      },
      "execution_count": 54,
      "outputs": [
        {
          "output_type": "stream",
          "name": "stdout",
          "text": [
            "[1, 5, 4, 5, 5, 4, 3]\n",
            "[5, 5, 4, 4, 5, 2, 1]\n"
          ]
        }
      ]
    },
    {
      "cell_type": "code",
      "source": [
        "#concatenar\n",
        "\n",
        "conca = list()\n",
        "\n",
        "conca = filas + columas\n",
        "\n",
        "print(conca)\n",
        "concapairs = list()\n",
        "pairs = 2\n",
        "\n",
        "for i in range(0, len(conca), pairs):\n",
        "  concapairs.append(conca[i:i+pairs])\n",
        "\n",
        "print(concapairs)"
      ],
      "metadata": {
        "colab": {
          "base_uri": "https://localhost:8080/"
        },
        "id": "k8CmxY3cCK5H",
        "outputId": "ff2ff59f-ec35-4fe9-9196-16ba6f1d91e3"
      },
      "execution_count": 64,
      "outputs": [
        {
          "output_type": "stream",
          "name": "stdout",
          "text": [
            "[1, 5, 4, 5, 5, 4, 3, 5, 5, 4, 4, 5, 2, 1]\n",
            "[[1, 5], [4, 5], [5, 4], [3, 5], [5, 4], [4, 5], [2, 1]]\n"
          ]
        }
      ]
    },
    {
      "cell_type": "code",
      "source": [
        "#Cifrar\n",
        "\n",
        "cifrado = list()\n",
        "\n",
        "for a in range(0, len(concapairs), 1):\n",
        "  for b in range(0, len(concapairs), 2):\n",
        "    for ii in range(0,len(chunked_list), 1):\n",
        "      for jj in range(0,len(chunked_list), 1):\n",
        "        print(concapairs[a][b])\n",
        "        print(ii+1)\n",
        "        print(concapairs[a][b+1])\n",
        "        print(jj+1)\n",
        "        if( concapairs[a][b]== ii+1 and concapairs[a][b+1] == jj+1):\n",
        "          cifrado.append(chunked_list[ii][jj])\n",
        "          print(chunked_list[ii][jj])\n",
        "print(cifrado)\n"
      ],
      "metadata": {
        "colab": {
          "base_uri": "https://localhost:8080/",
          "height": 1000
        },
        "id": "V842FdVb8EAT",
        "outputId": "e2974a58-6de9-416b-b3b9-1376e5e6651f"
      },
      "execution_count": 74,
      "outputs": [
        {
          "output_type": "stream",
          "name": "stdout",
          "text": [
            "1\n",
            "1\n",
            "5\n",
            "1\n",
            "1\n",
            "1\n",
            "5\n",
            "2\n",
            "1\n",
            "1\n",
            "5\n",
            "3\n",
            "1\n",
            "1\n",
            "5\n",
            "4\n",
            "1\n",
            "1\n",
            "5\n",
            "5\n",
            "m\n",
            "1\n",
            "2\n",
            "5\n",
            "1\n",
            "1\n",
            "2\n",
            "5\n",
            "2\n",
            "1\n",
            "2\n",
            "5\n",
            "3\n",
            "1\n",
            "2\n",
            "5\n",
            "4\n",
            "1\n",
            "2\n",
            "5\n",
            "5\n",
            "1\n",
            "3\n",
            "5\n",
            "1\n",
            "1\n",
            "3\n",
            "5\n",
            "2\n",
            "1\n",
            "3\n",
            "5\n",
            "3\n",
            "1\n",
            "3\n",
            "5\n",
            "4\n",
            "1\n",
            "3\n",
            "5\n",
            "5\n",
            "1\n",
            "4\n",
            "5\n",
            "1\n",
            "1\n",
            "4\n",
            "5\n",
            "2\n",
            "1\n",
            "4\n",
            "5\n",
            "3\n",
            "1\n",
            "4\n",
            "5\n",
            "4\n",
            "1\n",
            "4\n",
            "5\n",
            "5\n",
            "1\n",
            "5\n",
            "5\n",
            "1\n",
            "1\n",
            "5\n",
            "5\n",
            "2\n",
            "1\n",
            "5\n",
            "5\n",
            "3\n",
            "1\n",
            "5\n",
            "5\n",
            "4\n",
            "1\n",
            "5\n",
            "5\n",
            "5\n"
          ]
        },
        {
          "output_type": "error",
          "ename": "IndexError",
          "evalue": "ignored",
          "traceback": [
            "\u001b[0;31m---------------------------------------------------------------------------\u001b[0m",
            "\u001b[0;31mIndexError\u001b[0m                                Traceback (most recent call last)",
            "\u001b[0;32m<ipython-input-74-6feed0202fea>\u001b[0m in \u001b[0;36m<cell line: 5>\u001b[0;34m()\u001b[0m\n\u001b[1;32m      7\u001b[0m     \u001b[0;32mfor\u001b[0m \u001b[0mii\u001b[0m \u001b[0;32min\u001b[0m \u001b[0mrange\u001b[0m\u001b[0;34m(\u001b[0m\u001b[0;36m0\u001b[0m\u001b[0;34m,\u001b[0m\u001b[0mlen\u001b[0m\u001b[0;34m(\u001b[0m\u001b[0mchunked_list\u001b[0m\u001b[0;34m)\u001b[0m\u001b[0;34m,\u001b[0m \u001b[0;36m1\u001b[0m\u001b[0;34m)\u001b[0m\u001b[0;34m:\u001b[0m\u001b[0;34m\u001b[0m\u001b[0;34m\u001b[0m\u001b[0m\n\u001b[1;32m      8\u001b[0m       \u001b[0;32mfor\u001b[0m \u001b[0mjj\u001b[0m \u001b[0;32min\u001b[0m \u001b[0mrange\u001b[0m\u001b[0;34m(\u001b[0m\u001b[0;36m0\u001b[0m\u001b[0;34m,\u001b[0m\u001b[0mlen\u001b[0m\u001b[0;34m(\u001b[0m\u001b[0mchunked_list\u001b[0m\u001b[0;34m)\u001b[0m\u001b[0;34m,\u001b[0m \u001b[0;36m1\u001b[0m\u001b[0;34m)\u001b[0m\u001b[0;34m:\u001b[0m\u001b[0;34m\u001b[0m\u001b[0;34m\u001b[0m\u001b[0m\n\u001b[0;32m----> 9\u001b[0;31m         \u001b[0mprint\u001b[0m\u001b[0;34m(\u001b[0m\u001b[0mconcapairs\u001b[0m\u001b[0;34m[\u001b[0m\u001b[0ma\u001b[0m\u001b[0;34m]\u001b[0m\u001b[0;34m[\u001b[0m\u001b[0mb\u001b[0m\u001b[0;34m]\u001b[0m\u001b[0;34m)\u001b[0m\u001b[0;34m\u001b[0m\u001b[0;34m\u001b[0m\u001b[0m\n\u001b[0m\u001b[1;32m     10\u001b[0m         \u001b[0mprint\u001b[0m\u001b[0;34m(\u001b[0m\u001b[0mii\u001b[0m\u001b[0;34m+\u001b[0m\u001b[0;36m1\u001b[0m\u001b[0;34m)\u001b[0m\u001b[0;34m\u001b[0m\u001b[0;34m\u001b[0m\u001b[0m\n\u001b[1;32m     11\u001b[0m         \u001b[0mprint\u001b[0m\u001b[0;34m(\u001b[0m\u001b[0mconcapairs\u001b[0m\u001b[0;34m[\u001b[0m\u001b[0ma\u001b[0m\u001b[0;34m]\u001b[0m\u001b[0;34m[\u001b[0m\u001b[0mb\u001b[0m\u001b[0;34m+\u001b[0m\u001b[0;36m1\u001b[0m\u001b[0;34m]\u001b[0m\u001b[0;34m)\u001b[0m\u001b[0;34m\u001b[0m\u001b[0;34m\u001b[0m\u001b[0m\n",
            "\u001b[0;31mIndexError\u001b[0m: list index out of range"
          ]
        }
      ]
    }
  ]
}