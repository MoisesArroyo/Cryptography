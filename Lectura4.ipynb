{
  "nbformat": 4,
  "nbformat_minor": 0,
  "metadata": {
    "colab": {
      "provenance": [],
      "authorship_tag": "ABX9TyO6Mc4pp7DDaUMV8Bgat1tG",
      "include_colab_link": true
    },
    "kernelspec": {
      "name": "python3",
      "display_name": "Python 3"
    },
    "language_info": {
      "name": "python"
    }
  },
  "cells": [
    {
      "cell_type": "markdown",
      "metadata": {
        "id": "view-in-github",
        "colab_type": "text"
      },
      "source": [
        "<a href=\"https://colab.research.google.com/github/MoisesArroyo/Cryptography/blob/master/Lectura4.ipynb\" target=\"_parent\"><img src=\"https://colab.research.google.com/assets/colab-badge.svg\" alt=\"Open In Colab\"/></a>"
      ]
    },
    {
      "cell_type": "markdown",
      "source": [
        "#Cifrado Bifido\n"
      ],
      "metadata": {
        "id": "mC3gpQr03SU1"
      }
    },
    {
      "cell_type": "code",
      "source": [
        "m = input('Ingresa el mensaje a cifrar: ')\n",
        "ml = list(m)\n",
        "filas = list()\n",
        "columas = list()\n"
      ],
      "metadata": {
        "colab": {
          "base_uri": "https://localhost:8080/"
        },
        "id": "6Ayf2Zcv3dmm",
        "outputId": "e569dcc6-9342-4898-f7dd-bbf941fed7f9"
      },
      "execution_count": 1,
      "outputs": [
        {
          "name": "stdout",
          "output_type": "stream",
          "text": [
            "Ingresa el mensaje a cifrar: mistico\n"
          ]
        }
      ]
    },
    {
      "cell_type": "code",
      "source": [
        "v = 'phqgmeaylnñofdxkrcvszwbutij'\n",
        "vlen = list(v)\n",
        "chunked_list = list()\n",
        "chunk_size = 5\n",
        "# print(vlen)\n",
        "j=0\n",
        "for i in vlen:\n",
        "  if( i == 'n'):\n",
        "    vlen[j] = 'nñ'\n",
        "    vlen.remove('ñ')\n",
        "    j = j+1\n",
        "  if( i == 'i'):\n",
        "    vlen[j] = 'ij'\n",
        "    vlen.remove('i')\n",
        "    j = j+1\n",
        "  j = j+1\n",
        "\n",
        "print(vlen)\n",
        "\n"
      ],
      "metadata": {
        "colab": {
          "base_uri": "https://localhost:8080/"
        },
        "id": "ovpe7kuTABA-",
        "outputId": "7d01b255-2fc0-4622-ff1f-63601a1f4466"
      },
      "execution_count": 2,
      "outputs": [
        {
          "output_type": "stream",
          "name": "stdout",
          "text": [
            "['p', 'h', 'q', 'g', 'm', 'e', 'a', 'y', 'l', 'nñ', 'o', 'f', 'd', 'x', 'k', 'r', 'c', 'v', 's', 'z', 'w', 'b', 'u', 't', 'ij']\n"
          ]
        }
      ]
    },
    {
      "cell_type": "code",
      "source": [
        "for i in range(0, len(vlen), chunk_size):\n",
        "  chunked_list.append(vlen[i:i+chunk_size])\n",
        "\n",
        "print(chunked_list)"
      ],
      "metadata": {
        "colab": {
          "base_uri": "https://localhost:8080/"
        },
        "id": "vq_IPSHHFFk7",
        "outputId": "abb304d7-1f3d-4256-dbb7-e39c14b63bd5"
      },
      "execution_count": 3,
      "outputs": [
        {
          "output_type": "stream",
          "name": "stdout",
          "text": [
            "[['p', 'h', 'q', 'g', 'm'], ['e', 'a', 'y', 'l', 'nñ'], ['o', 'f', 'd', 'x', 'k'], ['r', 'c', 'v', 's', 'z'], ['w', 'b', 'u', 't', 'ij']]\n"
          ]
        }
      ]
    },
    {
      "cell_type": "code",
      "source": [
        "a = 'm'\n",
        "chunked_list[2][1]"
      ],
      "metadata": {
        "colab": {
          "base_uri": "https://localhost:8080/",
          "height": 36
        },
        "id": "yFGioAnOzc0l",
        "outputId": "080e33b1-cd04-4d35-8195-176b6639b19f"
      },
      "execution_count": 4,
      "outputs": [
        {
          "output_type": "execute_result",
          "data": {
            "text/plain": [
              "'f'"
            ],
            "application/vnd.google.colaboratory.intrinsic+json": {
              "type": "string"
            }
          },
          "metadata": {},
          "execution_count": 4
        }
      ]
    },
    {
      "cell_type": "code",
      "source": [
        "\n",
        "#Buscar posición\n",
        "filas = list()\n",
        "columas = list()\n",
        "\n",
        "\n",
        "for a in range(0, len(ml), 1):\n",
        "  for ii in range(0,len(chunked_list), 1):\n",
        "    for jj in range(0,len(chunked_list), 1):\n",
        "      if(ml[a]=='i' and (chunked_list[ii][jj] == 'ij')):\n",
        "        filas.append(ii+1)\n",
        "        columas.append(jj+1)\n",
        "      if(ml[a]==chunked_list[ii][jj]):\n",
        "        filas.append(ii+1)\n",
        "        columas.append(jj+1)\n",
        "\n",
        "\n",
        "print(filas)\n",
        "print(columas)\n",
        "\n",
        "\n"
      ],
      "metadata": {
        "colab": {
          "base_uri": "https://localhost:8080/"
        },
        "id": "tFHIfKdl3-i9",
        "outputId": "da6df036-dbb7-4219-d247-675ef4b5e69e"
      },
      "execution_count": 13,
      "outputs": [
        {
          "output_type": "stream",
          "name": "stdout",
          "text": [
            "[1, 5, 4, 5, 5, 4, 3]\n",
            "[5, 5, 4, 4, 5, 2, 1]\n"
          ]
        }
      ]
    },
    {
      "cell_type": "code",
      "source": [
        "#concatenar\n",
        "\n",
        "conca = list()\n",
        "\n",
        "conca = filas + columas\n",
        "\n",
        "print(conca)\n",
        "concapairs = list()\n",
        "pairs = 2\n",
        "\n",
        "for i in range(0, len(conca), pairs):\n",
        "  concapairs.append(conca[i:i+pairs])\n",
        "\n",
        "print(concapairs)"
      ],
      "metadata": {
        "colab": {
          "base_uri": "https://localhost:8080/"
        },
        "id": "k8CmxY3cCK5H",
        "outputId": "01b400f9-424f-4d7a-86b8-fa788acdc084"
      },
      "execution_count": 14,
      "outputs": [
        {
          "output_type": "stream",
          "name": "stdout",
          "text": [
            "[1, 5, 4, 5, 5, 4, 3, 5, 5, 4, 4, 5, 2, 1]\n",
            "[[1, 5], [4, 5], [5, 4], [3, 5], [5, 4], [4, 5], [2, 1]]\n"
          ]
        }
      ]
    },
    {
      "cell_type": "code",
      "source": [
        "cifrado = list()\n",
        "for ii in concapairs:\n",
        "  print(ii)"
      ],
      "metadata": {
        "colab": {
          "base_uri": "https://localhost:8080/"
        },
        "id": "SYa8-BWtrDCK",
        "outputId": "e89089db-7d8c-4826-96f8-21edd09ebff8"
      },
      "execution_count": 20,
      "outputs": [
        {
          "output_type": "stream",
          "name": "stdout",
          "text": [
            "[1, 5]\n",
            "[4, 5]\n",
            "[5, 4]\n",
            "[3, 5]\n",
            "[5, 4]\n",
            "[4, 5]\n",
            "[2, 1]\n"
          ]
        }
      ]
    },
    {
      "cell_type": "code",
      "source": [
        "#Cifrar\n",
        "value1 = list()\n",
        "value2 = 0\n",
        "cifrado = list()\n",
        "for hh in concapairs:\n",
        "  for ii in range(0,len(chunked_list), 1):\n",
        "    for jj in range(0,len(chunked_list), 1):\n",
        "      value1 = list()\n",
        "      value1.append(ii+1)\n",
        "      value1.append(jj+1)\n",
        "      if(hh == value1):\n",
        "        cifrado.append(chunked_list[ii][jj])\n",
        "\n",
        "print(cifrado)\n"
      ],
      "metadata": {
        "colab": {
          "base_uri": "https://localhost:8080/"
        },
        "id": "V842FdVb8EAT",
        "outputId": "9bfbd3ae-aa16-42f7-bf61-d6253b017c07"
      },
      "execution_count": 29,
      "outputs": [
        {
          "output_type": "stream",
          "name": "stdout",
          "text": [
            "['m', 'z', 't', 'k', 't', 'z', 'e']\n"
          ]
        }
      ]
    },
    {
      "cell_type": "code",
      "source": [
        "#Descifrado a partir de una lista\n",
        "\n",
        "print(conca)\n",
        "descif = list()\n",
        "half = int(len(conca)/2)\n",
        "\n",
        "for i in range(0, len(conca), half):\n",
        "  descif.append(conca[i:i+half])\n",
        "\n",
        "print(descif)"
      ],
      "metadata": {
        "colab": {
          "base_uri": "https://localhost:8080/"
        },
        "id": "oRe0zs8LQABn",
        "outputId": "5f081e0c-4cee-495c-9505-f319ef40d4d6"
      },
      "execution_count": 33,
      "outputs": [
        {
          "output_type": "stream",
          "name": "stdout",
          "text": [
            "[1, 5, 4, 5, 5, 4, 3, 5, 5, 4, 4, 5, 2, 1]\n",
            "[[1, 5, 4, 5, 5, 4, 3], [5, 5, 4, 4, 5, 2, 1]]\n"
          ]
        }
      ]
    },
    {
      "cell_type": "code",
      "source": [
        "filas = list()\n",
        "columnas = list()\n",
        "\n",
        "for i in range(0, len(descif)):\n",
        "  for j in range(0, len(descif[i])):\n",
        "    if(i<1):\n",
        "      filas.append(descif[i][j])\n",
        "    else:\n",
        "      columnas.append(descif[i][j])\n",
        "\n",
        "print(filas)\n",
        "print(columnas)\n",
        "\n"
      ],
      "metadata": {
        "colab": {
          "base_uri": "https://localhost:8080/"
        },
        "id": "xfEo-JQWwFTP",
        "outputId": "b81fd8c0-939c-4083-b553-7cc6fcea6322"
      },
      "execution_count": 60,
      "outputs": [
        {
          "output_type": "stream",
          "name": "stdout",
          "text": [
            "[1, 5, 4, 5, 5, 4, 3]\n",
            "[5, 5, 4, 4, 5, 2, 1]\n"
          ]
        }
      ]
    },
    {
      "cell_type": "code",
      "source": [
        "message = list()\n",
        "for a, b in zip(filas, columnas):\n",
        "  message.append(chunked_list[a-1][b-1])\n",
        "\n",
        "print(message)"
      ],
      "metadata": {
        "colab": {
          "base_uri": "https://localhost:8080/"
        },
        "id": "FLXyjFAnz079",
        "outputId": "4d1e17fa-25b2-4ec0-d0af-23c9db815cd1"
      },
      "execution_count": 66,
      "outputs": [
        {
          "output_type": "stream",
          "name": "stdout",
          "text": [
            "['m', 'ij', 's', 't', 'ij', 'c', 'o']\n"
          ]
        }
      ]
    },
    {
      "cell_type": "code",
      "source": [],
      "metadata": {
        "id": "hblr1p9Z51-E"
      },
      "execution_count": null,
      "outputs": []
    }
  ]
}