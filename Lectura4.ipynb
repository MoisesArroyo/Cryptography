{
  "nbformat": 4,
  "nbformat_minor": 0,
  "metadata": {
    "colab": {
      "provenance": [],
      "authorship_tag": "ABX9TyOwHo7XCErtCRT/td79GFwD",
      "include_colab_link": true
    },
    "kernelspec": {
      "name": "python3",
      "display_name": "Python 3"
    },
    "language_info": {
      "name": "python"
    }
  },
  "cells": [
    {
      "cell_type": "markdown",
      "metadata": {
        "id": "view-in-github",
        "colab_type": "text"
      },
      "source": [
        "<a href=\"https://colab.research.google.com/github/MoisesArroyo/Cryptography/blob/master/Lectura4.ipynb\" target=\"_parent\"><img src=\"https://colab.research.google.com/assets/colab-badge.svg\" alt=\"Open In Colab\"/></a>"
      ]
    },
    {
      "cell_type": "markdown",
      "source": [
        "#Cifrado Bifido\n"
      ],
      "metadata": {
        "id": "mC3gpQr03SU1"
      }
    },
    {
      "cell_type": "code",
      "source": [
        "\n",
        "m = input('Ingresa el mensaje a cifrar')\n",
        "ml = list(m)\n",
        "filas = list()\n",
        "columas = list()\n"
      ],
      "metadata": {
        "colab": {
          "base_uri": "https://localhost:8080/"
        },
        "id": "6Ayf2Zcv3dmm",
        "outputId": "7c0d5574-b488-498a-cf93-657b8427ea71"
      },
      "execution_count": 88,
      "outputs": [
        {
          "name": "stdout",
          "output_type": "stream",
          "text": [
            "Ingresa el mensaje a cifrarmisti\n"
          ]
        }
      ]
    },
    {
      "cell_type": "code",
      "source": [
        "v = 'phqgmeaylnñofdxkrcvszwbutij'\n",
        "vlen = list(v)\n",
        "chunked_list = list()\n",
        "chunk_size = 5\n",
        "# print(vlen)\n",
        "j=0\n",
        "for i in vlen:\n",
        "  if( i == 'n'):\n",
        "    vlen[j] = 'nñ'\n",
        "    vlen.remove('ñ')\n",
        "    j = j+1\n",
        "  if( i == 'i'):\n",
        "    vlen[j] = 'ij'\n",
        "    vlen.remove('i')\n",
        "    j = j+1\n",
        "  j = j+1\n",
        "\n",
        "print(vlen)\n",
        "\n"
      ],
      "metadata": {
        "colab": {
          "base_uri": "https://localhost:8080/"
        },
        "id": "ovpe7kuTABA-",
        "outputId": "6dd83209-34ae-498f-b843-3cdc6f847764"
      },
      "execution_count": 89,
      "outputs": [
        {
          "output_type": "stream",
          "name": "stdout",
          "text": [
            "['p', 'h', 'q', 'g', 'm', 'e', 'a', 'y', 'l', 'nñ', 'o', 'f', 'd', 'x', 'k', 'r', 'c', 'v', 's', 'z', 'w', 'b', 'u', 't', 'ij']\n"
          ]
        }
      ]
    },
    {
      "cell_type": "code",
      "source": [
        "for i in range(0, len(vlen), chunk_size):\n",
        "  chunked_list.append(vlen[i:i+chunk_size])\n",
        "\n",
        "print(chunked_list)"
      ],
      "metadata": {
        "colab": {
          "base_uri": "https://localhost:8080/"
        },
        "id": "vq_IPSHHFFk7",
        "outputId": "1fb3afd7-fa37-4d8a-f644-4f2bc70720a5"
      },
      "execution_count": 90,
      "outputs": [
        {
          "output_type": "stream",
          "name": "stdout",
          "text": [
            "[['p', 'h', 'q', 'g', 'm'], ['e', 'a', 'y', 'l', 'nñ'], ['o', 'f', 'd', 'x', 'k'], ['r', 'c', 'v', 's', 'z'], ['w', 'b', 'u', 't', 'ij']]\n"
          ]
        }
      ]
    },
    {
      "cell_type": "code",
      "source": [
        "from re import A\n",
        "#Buscar posición\n",
        "filas = list()\n",
        "columas = list()\n",
        "mm = ''\n",
        "a = 0\n",
        "for ii in chunked_list:\n",
        "  for jj in chunked_list:\n",
        "    if(ml[a] == chunked_list[ii][jj] ):\n",
        "      columas.append(chunked_list.index(jj))\n",
        "      filas.append(chunked_list.index(ii))\n",
        "    a=+1\n",
        "\n",
        "\n",
        "print(filas)\n",
        "print(columas)\n",
        "\n",
        "\n"
      ],
      "metadata": {
        "colab": {
          "base_uri": "https://localhost:8080/",
          "height": 235
        },
        "id": "tFHIfKdl3-i9",
        "outputId": "0db5eeb9-f0ec-4232-94ad-a60ef320baa3"
      },
      "execution_count": 95,
      "outputs": [
        {
          "output_type": "error",
          "ename": "TypeError",
          "evalue": "ignored",
          "traceback": [
            "\u001b[0;31m---------------------------------------------------------------------------\u001b[0m",
            "\u001b[0;31mTypeError\u001b[0m                                 Traceback (most recent call last)",
            "\u001b[0;32m<ipython-input-95-21c06b7a80d9>\u001b[0m in \u001b[0;36m<cell line: 7>\u001b[0;34m()\u001b[0m\n\u001b[1;32m      7\u001b[0m \u001b[0;32mfor\u001b[0m \u001b[0mii\u001b[0m \u001b[0;32min\u001b[0m \u001b[0mchunked_list\u001b[0m\u001b[0;34m:\u001b[0m\u001b[0;34m\u001b[0m\u001b[0;34m\u001b[0m\u001b[0m\n\u001b[1;32m      8\u001b[0m   \u001b[0;32mfor\u001b[0m \u001b[0mjj\u001b[0m \u001b[0;32min\u001b[0m \u001b[0mchunked_list\u001b[0m\u001b[0;34m:\u001b[0m\u001b[0;34m\u001b[0m\u001b[0;34m\u001b[0m\u001b[0m\n\u001b[0;32m----> 9\u001b[0;31m     \u001b[0;32mif\u001b[0m\u001b[0;34m(\u001b[0m\u001b[0mml\u001b[0m\u001b[0;34m[\u001b[0m\u001b[0ma\u001b[0m\u001b[0;34m]\u001b[0m \u001b[0;34m==\u001b[0m \u001b[0mchunked_list\u001b[0m\u001b[0;34m[\u001b[0m\u001b[0mii\u001b[0m\u001b[0;34m]\u001b[0m\u001b[0;34m[\u001b[0m\u001b[0mjj\u001b[0m\u001b[0;34m]\u001b[0m \u001b[0;34m)\u001b[0m\u001b[0;34m:\u001b[0m\u001b[0;34m\u001b[0m\u001b[0;34m\u001b[0m\u001b[0m\n\u001b[0m\u001b[1;32m     10\u001b[0m       \u001b[0mcolumas\u001b[0m\u001b[0;34m.\u001b[0m\u001b[0mappend\u001b[0m\u001b[0;34m(\u001b[0m\u001b[0mchunked_list\u001b[0m\u001b[0;34m.\u001b[0m\u001b[0mindex\u001b[0m\u001b[0;34m(\u001b[0m\u001b[0mjj\u001b[0m\u001b[0;34m)\u001b[0m\u001b[0;34m)\u001b[0m\u001b[0;34m\u001b[0m\u001b[0;34m\u001b[0m\u001b[0m\n\u001b[1;32m     11\u001b[0m       \u001b[0mfilas\u001b[0m\u001b[0;34m.\u001b[0m\u001b[0mappend\u001b[0m\u001b[0;34m(\u001b[0m\u001b[0mchunked_list\u001b[0m\u001b[0;34m.\u001b[0m\u001b[0mindex\u001b[0m\u001b[0;34m(\u001b[0m\u001b[0mii\u001b[0m\u001b[0;34m)\u001b[0m\u001b[0;34m)\u001b[0m\u001b[0;34m\u001b[0m\u001b[0;34m\u001b[0m\u001b[0m\n",
            "\u001b[0;31mTypeError\u001b[0m: list indices must be integers or slices, not list"
          ]
        }
      ]
    },
    {
      "cell_type": "code",
      "source": [],
      "metadata": {
        "id": "k8CmxY3cCK5H"
      },
      "execution_count": null,
      "outputs": []
    }
  ]
}