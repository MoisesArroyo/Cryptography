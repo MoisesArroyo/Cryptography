{
  "nbformat": 4,
  "nbformat_minor": 0,
  "metadata": {
    "colab": {
      "provenance": [],
      "authorship_tag": "ABX9TyMolB8UO1bnavLDT6UjeL/e",
      "include_colab_link": true
    },
    "kernelspec": {
      "name": "python3",
      "display_name": "Python 3"
    },
    "language_info": {
      "name": "python"
    }
  },
  "cells": [
    {
      "cell_type": "markdown",
      "metadata": {
        "id": "view-in-github",
        "colab_type": "text"
      },
      "source": [
        "<a href=\"https://colab.research.google.com/github/MoisesArroyo/Cryptography/blob/master/Lectura3.ipynb\" target=\"_parent\"><img src=\"https://colab.research.google.com/assets/colab-badge.svg\" alt=\"Open In Colab\"/></a>"
      ]
    },
    {
      "cell_type": "markdown",
      "source": [
        "#Lectura 3\n",
        "##Tabla vigenére\n",
        "\n",
        "1. Generar una matriz de 27x27 con el alfabeto de entrada\n",
        "2. ingresar texto a cifrar\n",
        "3. Ingresar clave(se hace padding)"
      ],
      "metadata": {
        "id": "dmBKPbS8kDA2"
      }
    },
    {
      "cell_type": "code",
      "source": [
        "alpha = 'abcdefghijklmnopqrstuvwxyz'\n",
        "print(\"1. Cifrar\")\n",
        "print(\"2. Descifrar\")\n",
        "opc = int(input(\"Ingresa la opción:\"))\n",
        "if(opc == 1):\n",
        "  m = input(\"Ingresa el mensaje a cifrar: \")\n",
        "  k = input(\"Ingresa la clave: \")\n",
        "  pl = len(m)\n",
        "  k1 = []\n",
        "  k1 = list(k)\n",
        "  print(k1)\n",
        "  lon = 0\n",
        "  i=0\n",
        "  lon = len(k1)\n",
        "  while(lon != pl):\n",
        "    k1.append(k[i])\n",
        "    i = i+1\n",
        "    lon = lon + 1\n",
        "  print(k1)\n",
        "\n",
        "  def cif(m, k):\n",
        "    i = 0\n",
        "    mc = ''\n",
        "    for letra in m:\n",
        "      suma = alpha.find(letra) + alpha.find(k[i % len(k)])\n",
        "      modulo = int(suma)%len(alpha)\n",
        "      mc = mc + str(alpha[modulo])\n",
        "      i+=1\n",
        "    return mc\n",
        "\n",
        "  mc = ''\n",
        "  mc = cif(m,k1)\n",
        "  print(mc)\n",
        "\n",
        "else:\n",
        "  m = input(\"Ingresa el mensaje a descrifrar: \")\n",
        "  k = input(\"Ingresa la clave: \")\n",
        "  pl = len(m)\n",
        "  k1 = []\n",
        "  k1 = list(k)\n",
        "  print(k1)\n",
        "  lon = 0\n",
        "  i=0\n",
        "  lon = len(k1)\n",
        "  while(lon != pl):\n",
        "    k1.append(k[i])\n",
        "    i = i+1\n",
        "    lon = lon + 1\n",
        "  print(k1)\n",
        "  def descif(m, k):\n",
        "    i = 0\n",
        "    om = ''\n",
        "    for letra in m:\n",
        "      suma = alpha.find(letra) - alpha.find(k[i % len(k)])\n",
        "      modulo = int(suma)%len(alpha)\n",
        "      om = om + str(alpha[modulo])\n",
        "      i+=1\n",
        "    return om\n",
        "  om = ''\n",
        "  om = descif(m,k1)\n",
        "  print(om)"
      ],
      "metadata": {
        "colab": {
          "base_uri": "https://localhost:8080/"
        },
        "id": "CMwYMOSJlJuU",
        "outputId": "b153f1a8-a747-4382-d8b3-239e0b09eb7b"
      },
      "execution_count": null,
      "outputs": [
        {
          "output_type": "stream",
          "name": "stdout",
          "text": [
            "1. Cifrar\n",
            "2. Descifrar\n",
            "Ingresa la opción:1\n",
            "Ingresa el mensaje a cifrar: holamundo\n",
            "Ingresa la clave: secreto\n",
            "['s', 'e', 'c', 'r', 'e', 't', 'o']\n",
            "['s', 'e', 'c', 'r', 'e', 't', 'o', 's', 'e']\n",
            "zsnrqnbvs\n"
          ]
        }
      ]
    },
    {
      "cell_type": "code",
      "source": [],
      "metadata": {
        "colab": {
          "base_uri": "https://localhost:8080/"
        },
        "id": "wvmuUgxaqo_-",
        "outputId": "b62f6e9c-11e2-4b7f-bf1d-be67c3a6fe8b"
      },
      "execution_count": null,
      "outputs": [
        {
          "output_type": "stream",
          "name": "stdout",
          "text": [
            "['s', 'e', 'c', 'r', 'e', 't', 'o']\n",
            "['s', 'e', 'c', 'r', 'e', 't', 'o', 's', 'e']\n"
          ]
        }
      ]
    },
    {
      "cell_type": "code",
      "source": [
        "#Función cifrado\n",
        "def cif(m, k):\n",
        "  i = 0\n",
        "  mc = ''\n",
        "  for letra in m:\n",
        "    suma = alpha.find(letra) + alpha.find(k[i % len(k)])\n",
        "    modulo = int(suma)%len(alpha)\n",
        "    mc = mc + str(alpha[modulo])\n",
        "    i+=1\n",
        "  return mc\n",
        "\n",
        "mc = ''\n",
        "mc = cif(m,k1)\n",
        "print(mc)"
      ],
      "metadata": {
        "colab": {
          "base_uri": "https://localhost:8080/"
        },
        "id": "yPEFtsQJlWOc",
        "outputId": "025ccd15-d740-4e29-ce62-c121d802e920"
      },
      "execution_count": null,
      "outputs": [
        {
          "output_type": "stream",
          "name": "stdout",
          "text": [
            "zsnrqnbvs\n"
          ]
        }
      ]
    },
    {
      "cell_type": "code",
      "source": [
        "#Función descifrado\n",
        "def descif(m, k):\n",
        "  i = 0\n",
        "  om = ''\n",
        "  for letra in m:\n",
        "    suma = alpha.find(letra) - alpha.find(k[i % len(k)])\n",
        "    modulo = int(suma)%len(alpha)\n",
        "    om = om + str(alpha[modulo])\n",
        "    i+=1\n",
        "  return om\n",
        "\n",
        "om = ''\n",
        "\n",
        "om = descif(mc,k1)\n",
        "\n",
        "print(om)"
      ],
      "metadata": {
        "colab": {
          "base_uri": "https://localhost:8080/"
        },
        "id": "k3phecbroVX6",
        "outputId": "db72407b-33af-47be-e753-a62e7c1e5453"
      },
      "execution_count": null,
      "outputs": [
        {
          "output_type": "stream",
          "name": "stdout",
          "text": [
            "holamundo\n"
          ]
        }
      ]
    }
  ]
}