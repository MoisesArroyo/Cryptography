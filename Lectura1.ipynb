{
  "nbformat": 4,
  "nbformat_minor": 0,
  "metadata": {
    "colab": {
      "provenance": [],
      "authorship_tag": "ABX9TyOTEZgwxHvJdmYiyX0sdouw",
      "include_colab_link": true
    },
    "kernelspec": {
      "name": "python3",
      "display_name": "Python 3"
    },
    "language_info": {
      "name": "python"
    }
  },
  "cells": [
    {
      "cell_type": "markdown",
      "metadata": {
        "id": "view-in-github",
        "colab_type": "text"
      },
      "source": [
        "<a href=\"https://colab.research.google.com/github/MoisesArroyo/Cryptography/blob/master/Lectura1.ipynb\" target=\"_parent\"><img src=\"https://colab.research.google.com/assets/colab-badge.svg\" alt=\"Open In Colab\"/></a>"
      ]
    },
    {
      "cell_type": "markdown",
      "source": [
        "1. Convertir a binario texo y llave\n",
        "2. Usar relleno(repetir llave) para igualar texto y llave\n",
        "\n",
        "# Primera Versión"
      ],
      "metadata": {
        "id": "JhDGTWIvid7c"
      }
    },
    {
      "cell_type": "code",
      "source": [
        "# Cifrado XOR\n",
        "p = input(\"Ingresa el texto plano: \")\n",
        "k = input(\"Ingresa la llave: \")\n",
        "cc = []\n",
        "dc = []\n",
        "regreso = ''\n",
        "pl = len(p)\n",
        "\n",
        "\n",
        "for i in p:\n",
        "  print(ord(i))"
      ],
      "metadata": {
        "colab": {
          "base_uri": "https://localhost:8080/"
        },
        "id": "xVuUo1wsrW9v",
        "outputId": "4e2079e4-92e1-4d2d-a022-d1e13838ca75"
      },
      "execution_count": 17,
      "outputs": [
        {
          "output_type": "stream",
          "name": "stdout",
          "text": [
            "Ingresa el texto plano: hola\n",
            "Ingresa la llave: ab\n",
            "104\n",
            "111\n",
            "108\n",
            "97\n"
          ]
        }
      ]
    },
    {
      "cell_type": "code",
      "source": [
        "#Parte del padding\n",
        "\n",
        "k1 = ''\n",
        "lon = 0\n",
        "i=0\n",
        "while(lon != pl):\n",
        "  k1 = k*i\n",
        "  lon = len(k1)\n",
        "  i = i+1\n",
        "\n",
        "print(k1)"
      ],
      "metadata": {
        "colab": {
          "base_uri": "https://localhost:8080/"
        },
        "id": "VD0jMcX56Pv3",
        "outputId": "bd134340-ca79-4882-9c31-e74b15d7d55c"
      },
      "execution_count": 18,
      "outputs": [
        {
          "output_type": "stream",
          "name": "stdout",
          "text": [
            "abab\n"
          ]
        }
      ]
    },
    {
      "cell_type": "code",
      "source": [
        "#Parte de cifrado\n",
        "\n",
        "for letra, letrak in zip(p, k1):\n",
        "    cc.append(ord(letra)^ord(letrak)) #Operación de cifrado\n",
        "\n",
        "print(\"Texto cifrado: \")\n",
        "print(cc)"
      ],
      "metadata": {
        "colab": {
          "base_uri": "https://localhost:8080/"
        },
        "id": "Bbp0MIuytXZ-",
        "outputId": "3a61ee1b-7bc7-497d-e032-442ff8034254"
      },
      "execution_count": 19,
      "outputs": [
        {
          "output_type": "stream",
          "name": "stdout",
          "text": [
            "Texto cifrado: \n",
            "[9, 13, 13, 3]\n"
          ]
        }
      ]
    },
    {
      "cell_type": "code",
      "source": [
        "#Parte de descifrado\n",
        "\n",
        "for h, y in zip(cc, k1):\n",
        "  dc.append(h^ord(y))\n",
        "\n",
        "print(\"Descifrado:\")\n",
        "print(dc)"
      ],
      "metadata": {
        "colab": {
          "base_uri": "https://localhost:8080/"
        },
        "id": "9ax7yjhNyVvX",
        "outputId": "87506e5e-6093-4c26-d8b9-ce38c55f9299"
      },
      "execution_count": 20,
      "outputs": [
        {
          "output_type": "stream",
          "name": "stdout",
          "text": [
            "Descifrado:\n",
            "[104, 111, 108, 97]\n"
          ]
        }
      ]
    },
    {
      "cell_type": "code",
      "source": [
        "for caract in dc:\n",
        "  regreso = regreso + chr(caract)\n",
        "\n",
        "print(regreso)"
      ],
      "metadata": {
        "colab": {
          "base_uri": "https://localhost:8080/"
        },
        "id": "klwe9Xboc6Nu",
        "outputId": "6aafe20c-7dbc-4020-8912-d425ae64b701"
      },
      "execution_count": 21,
      "outputs": [
        {
          "output_type": "stream",
          "name": "stdout",
          "text": [
            "hola\n"
          ]
        }
      ]
    }
  ]
}