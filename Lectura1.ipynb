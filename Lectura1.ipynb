{
  "nbformat": 4,
  "nbformat_minor": 0,
  "metadata": {
    "colab": {
      "provenance": [],
      "authorship_tag": "ABX9TyO6AdNe+2WAea6nqlZuNpl/",
      "include_colab_link": true
    },
    "kernelspec": {
      "name": "python3",
      "display_name": "Python 3"
    },
    "language_info": {
      "name": "python"
    }
  },
  "cells": [
    {
      "cell_type": "markdown",
      "metadata": {
        "id": "view-in-github",
        "colab_type": "text"
      },
      "source": [
        "<a href=\"https://colab.research.google.com/github/MoisesArroyo/Cryptography/blob/master/Lectura1.ipynb\" target=\"_parent\"><img src=\"https://colab.research.google.com/assets/colab-badge.svg\" alt=\"Open In Colab\"/></a>"
      ]
    },
    {
      "cell_type": "markdown",
      "source": [
        "1. Convertir a binario texo y llave\n",
        "2. Usar relleno(repetir llave) para igualar texto y llave\n",
        "\n",
        "# Primera Versión\n",
        "## Cifrado XOR"
      ],
      "metadata": {
        "id": "JhDGTWIvid7c"
      }
    },
    {
      "cell_type": "code",
      "source": [
        "# Cifrado XOR\n",
        "p = input(\"Ingresa el texto plano: \")\n",
        "k = input(\"Ingresa la llave: \")\n",
        "cc = []\n",
        "dc = []\n",
        "regreso = ''\n",
        "pl = len(p)\n",
        "\n",
        "\n",
        "for i in p:\n",
        "  print(ord(i))"
      ],
      "metadata": {
        "colab": {
          "base_uri": "https://localhost:8080/"
        },
        "id": "xVuUo1wsrW9v",
        "outputId": "4e2079e4-92e1-4d2d-a022-d1e13838ca75"
      },
      "execution_count": 17,
      "outputs": [
        {
          "output_type": "stream",
          "name": "stdout",
          "text": [
            "Ingresa el texto plano: hola\n",
            "Ingresa la llave: ab\n",
            "104\n",
            "111\n",
            "108\n",
            "97\n"
          ]
        }
      ]
    },
    {
      "cell_type": "code",
      "source": [
        "#Parte del padding\n",
        "\n",
        "k1 = ''\n",
        "lon = 0\n",
        "i=0\n",
        "while(lon != pl):\n",
        "  k1 = k*i\n",
        "  lon = len(k1)\n",
        "  i = i+1\n",
        "\n",
        "print(k1)"
      ],
      "metadata": {
        "colab": {
          "base_uri": "https://localhost:8080/"
        },
        "id": "VD0jMcX56Pv3",
        "outputId": "bd134340-ca79-4882-9c31-e74b15d7d55c"
      },
      "execution_count": 18,
      "outputs": [
        {
          "output_type": "stream",
          "name": "stdout",
          "text": [
            "abab\n"
          ]
        }
      ]
    },
    {
      "cell_type": "code",
      "source": [
        "#Parte de cifrado\n",
        "\n",
        "for letra, letrak in zip(p, k1):\n",
        "    cc.append(ord(letra)^ord(letrak)) #Operación de cifrado\n",
        "\n",
        "print(\"Texto cifrado: \")\n",
        "print(cc)"
      ],
      "metadata": {
        "colab": {
          "base_uri": "https://localhost:8080/"
        },
        "id": "Bbp0MIuytXZ-",
        "outputId": "3a61ee1b-7bc7-497d-e032-442ff8034254"
      },
      "execution_count": 19,
      "outputs": [
        {
          "output_type": "stream",
          "name": "stdout",
          "text": [
            "Texto cifrado: \n",
            "[9, 13, 13, 3]\n"
          ]
        }
      ]
    },
    {
      "cell_type": "code",
      "source": [
        "#Parte de descifrado\n",
        "\n",
        "for h, y in zip(cc, k1):\n",
        "  dc.append(h^ord(y))\n",
        "\n",
        "print(\"Descifrado:\")\n",
        "print(dc)"
      ],
      "metadata": {
        "colab": {
          "base_uri": "https://localhost:8080/"
        },
        "id": "9ax7yjhNyVvX",
        "outputId": "87506e5e-6093-4c26-d8b9-ce38c55f9299"
      },
      "execution_count": 20,
      "outputs": [
        {
          "output_type": "stream",
          "name": "stdout",
          "text": [
            "Descifrado:\n",
            "[104, 111, 108, 97]\n"
          ]
        }
      ]
    },
    {
      "cell_type": "code",
      "source": [
        "for caract in dc:\n",
        "  regreso = regreso + chr(caract)\n",
        "\n",
        "print(regreso)"
      ],
      "metadata": {
        "colab": {
          "base_uri": "https://localhost:8080/"
        },
        "id": "klwe9Xboc6Nu",
        "outputId": "6aafe20c-7dbc-4020-8912-d425ae64b701"
      },
      "execution_count": 21,
      "outputs": [
        {
          "output_type": "stream",
          "name": "stdout",
          "text": [
            "hola\n"
          ]
        }
      ]
    },
    {
      "cell_type": "markdown",
      "source": [
        "#Cifrado Afín"
      ],
      "metadata": {
        "id": "8JBrBZ-meV0B"
      }
    },
    {
      "cell_type": "code",
      "source": [
        "# Declaración e inicialización\n",
        "cc = []\n",
        "alpha = 'abcdefghijklmnñopqrstuvwxyz'\n",
        "tp = input(\"Ingresa la palabra descifrar: \")\n",
        "key = input(\"Ingresa la llave: \")\n",
        "n = len(alpha)\n",
        "list(key)\n",
        "ints = []\n",
        "for element in key:\n",
        "    ints.append(int(element))\n",
        "tuple(ints)"
      ],
      "metadata": {
        "colab": {
          "base_uri": "https://localhost:8080/"
        },
        "id": "jemuQpHmeu8g",
        "outputId": "7e24abde-d2d2-426e-ac32-e552fb39c531"
      },
      "execution_count": 51,
      "outputs": [
        {
          "name": "stdout",
          "output_type": "stream",
          "text": [
            "Ingresa la palabra descifrar: hola\n",
            "Ingresa la llave: 57\n"
          ]
        },
        {
          "output_type": "execute_result",
          "data": {
            "text/plain": [
              "(5, 7)"
            ]
          },
          "metadata": {},
          "execution_count": 51
        }
      ]
    },
    {
      "cell_type": "code",
      "source": [
        "#Cifrado\n",
        "for letra in tp:\n",
        "  cc.append(alpha[(ints[0]*alpha.index(letra)+ints[1])%27])\n"
      ],
      "metadata": {
        "id": "r82hUisThvqk"
      },
      "execution_count": 52,
      "outputs": []
    },
    {
      "cell_type": "code",
      "source": [
        "print(cc)"
      ],
      "metadata": {
        "colab": {
          "base_uri": "https://localhost:8080/"
        },
        "id": "VYlf6Kifs-W5",
        "outputId": "0f2b1133-bbd9-4500-cd7c-fc5d6a8b0742"
      },
      "execution_count": 53,
      "outputs": [
        {
          "output_type": "stream",
          "name": "stdout",
          "text": [
            "['o', 'b', 'i', 'h']\n"
          ]
        }
      ]
    },
    {
      "cell_type": "code",
      "source": [
        "#Descifrado\n",
        "dc = []\n",
        "#Hallar el inverso modular\n",
        "inverso = 0\n",
        "for i in range(0, n):\n",
        "  if ( ((ints[0]*i)%n) == 1):\n",
        "    inverso = i\n",
        "\n",
        "#Encontrar la palabra\n",
        "print (inverso)\n",
        "for letra in cc:\n",
        "  dc.append(alpha[(inverso*(alpha.index(letra)-ints[1]))%27])\n",
        "\n",
        "print(dc)"
      ],
      "metadata": {
        "colab": {
          "base_uri": "https://localhost:8080/"
        },
        "id": "LygWQszOl9UG",
        "outputId": "3dd414f3-f2f8-49c4-cece-d7208ee6c607"
      },
      "execution_count": 54,
      "outputs": [
        {
          "output_type": "stream",
          "name": "stdout",
          "text": [
            "11\n",
            "['h', 'o', 'l', 'a']\n"
          ]
        }
      ]
    }
  ]
}